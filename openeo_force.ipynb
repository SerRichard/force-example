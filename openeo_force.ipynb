{
 "cells": [
  {
   "cell_type": "code",
   "execution_count": 14,
   "metadata": {},
   "outputs": [],
   "source": [
    "import openeo"
   ]
  },
  {
   "cell_type": "code",
   "execution_count": 5,
   "metadata": {},
   "outputs": [
    {
     "name": "stdout",
     "output_type": "stream",
     "text": [
      "Authenticated using refresh token.\n"
     ]
    }
   ],
   "source": [
    "eodc_stac = \"https://stac.eodc.eu/api/v1\"\n",
    "\n",
    "eodc_openeo = \"https://openeo.eodc.eu/v1.0/\"\n",
    "conn = openeo.connect(eodc_openeo).authenticate_oidc(provider_id='egi')"
   ]
  },
  {
   "cell_type": "code",
   "execution_count": 6,
   "metadata": {},
   "outputs": [],
   "source": [
    "collection      = 'SENTINEL2_L1C'\n",
    "temporal_extent = [\"2021-01-01\", \"2021-01-15\"]\n",
    "\n",
    "spatial_extent = {\n",
    "    'west': 11.08348846435547,\n",
    "    'east': 11.616325378417969,\n",
    "    'south': 46.44258864468262,\n",
    "    'north': 46.53713734839792,\n",
    "    'crs': 'EPSG:4326',\n",
    "}\n",
    "\n",
    "bands = ['B01', 'B02', 'B03', 'B04', 'B05', 'B06', 'B07', 'B08', 'B8A', 'B09', 'B10', 'B11', 'B12']"
   ]
  },
  {
   "cell_type": "code",
   "execution_count": 15,
   "metadata": {},
   "outputs": [],
   "source": [
    "# This cell is for checking the query exists in the eodc stac\n",
    "# import pystac_client\n",
    "\n",
    "# eodc_stac = \"https://stac.eodc.eu/api/v1\"\n",
    "\n",
    "# client = pystac_client.Client.open(eodc_stac)\n",
    "\n",
    "# results = client.search(\n",
    "#         collections = [\"sentinel-2-l1c\"],\n",
    "#         datetime = (temporal_extent[0], temporal_extent[1]),\n",
    "#         limit = 100,\n",
    "#         bbox = (spatial_extent['west'], spatial_extent['south'], spatial_extent['north'], spatial_extent['east'])\n",
    "#     )\n",
    "\n",
    "# items = list(results.get_items())\n",
    "# len(items) != 0"
   ]
  },
  {
   "cell_type": "code",
   "execution_count": 18,
   "metadata": {},
   "outputs": [],
   "source": [
    "cube = conn.load_collection(collection,spatial_extent=spatial_extent,bands=bands,temporal_extent=temporal_extent)\n",
    "ard = cube.ard_surface_reflectance(atmospheric_correction_method = 'FORCE', cloud_detection_method = 'Fmask', elevation_model = \"cop-dem-30m\")\n",
    "ard_tif = ard.save_result(format=\"netcdf\")"
   ]
  },
  {
   "cell_type": "code",
   "execution_count": 19,
   "metadata": {},
   "outputs": [
    {
     "name": "stdout",
     "output_type": "stream",
     "text": [
      "Batch job created with id:  jb-8468d93e-9511-474c-99e3-b813588ab77c\n"
     ]
    }
   ],
   "source": [
    "job_ard = conn.create_job(ard_tif.flat_graph())\n",
    "job_id_ard = job_ard.job_id\n",
    "if job_id_ard:\n",
    "    print(\"Batch job created with id: \",job_id_ard)\n",
    "    job_ard.start_job()\n",
    "else:\n",
    "    print(\"Error! Job ID is None\")"
   ]
  }
 ],
 "metadata": {
  "kernelspec": {
   "display_name": "Python 3.9.15 ('.venv': poetry)",
   "language": "python",
   "name": "python3"
  },
  "language_info": {
   "codemirror_mode": {
    "name": "ipython",
    "version": 3
   },
   "file_extension": ".py",
   "mimetype": "text/x-python",
   "name": "python",
   "nbconvert_exporter": "python",
   "pygments_lexer": "ipython3",
   "version": "3.9.15"
  },
  "orig_nbformat": 4,
  "vscode": {
   "interpreter": {
    "hash": "264ce2eb11ee9d1684fc1c94228be4a7e265b36a989047a8989a49e539bb0b8c"
   }
  }
 },
 "nbformat": 4,
 "nbformat_minor": 2
}
